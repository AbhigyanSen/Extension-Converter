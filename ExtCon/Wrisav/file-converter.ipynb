{
  "cells": [
    {
      "cell_type": "code",
      "execution_count": 10,
      "metadata": {
        "colab": {
          "base_uri": "https://localhost:8080/"
        },
        "id": "o2mdmagRsvJg",
        "outputId": "059d1260-1268-480f-8329-71de84d2ee27"
      },
      "outputs": [],
      "source": [
        "#Requirements\n",
        "#pip install PyPDF2 python-docx fpdf\n",
        "#Note to self: Formatting is NOT preserved when converting to and from one file type to another"
      ]
    },
    {
      "cell_type": "code",
      "execution_count": 11,
      "metadata": {
        "id": "7Bfw__GBqiO_"
      },
      "outputs": [],
      "source": [
        "#PDF to TXT\n",
        "import os\n",
        "import PyPDF2\n",
        "\n",
        "def pdf_to_txt(input_path, output_dir):\n",
        "    # Open the PDF file\n",
        "    with open(input_path, 'rb') as file:\n",
        "        reader = PyPDF2.PdfReader(file)\n",
        "        text = ''\n",
        "        # Extract text from each page\n",
        "        for page_num in range(len(reader.pages)):\n",
        "            text += reader.pages[page_num].extract_text()\n",
        "\n",
        "    # Write the extracted text to a TXT file\n",
        "    output_path = os.path.join(output_dir, os.path.splitext(os.path.basename(input_path))[0] + '.txt')\n",
        "    with open(output_path, 'w') as txt_file:\n",
        "        txt_file.write(text)"
      ]
    },
    {
      "cell_type": "code",
      "execution_count": 12,
      "metadata": {
        "id": "Gh7629qJrOlZ"
      },
      "outputs": [],
      "source": [
        "#PDF to DOCX\n",
        "import os\n",
        "import PyPDF2\n",
        "from docx import Document\n",
        "\n",
        "def pdf_to_docx(input_path, output_dir):\n",
        "    # Open the PDF file\n",
        "    with open(input_path, 'rb') as file:\n",
        "        reader = PyPDF2.PdfReader(file)\n",
        "        doc = Document()\n",
        "        # Extract text from each page and add to DOCX document\n",
        "        for page_num in range(len(reader.pages)):\n",
        "            text = reader.pages[page_num].extract_text()\n",
        "            doc.add_paragraph(text)\n",
        "\n",
        "    # Save the DOCX document\n",
        "    output_path = os.path.join(output_dir, os.path.splitext(os.path.basename(input_path))[0] + '.docx')\n",
        "    doc.save(output_path)"
      ]
    },
    {
      "cell_type": "code",
      "execution_count": 21,
      "metadata": {
        "id": "mRwgY_vcrTGU"
      },
      "outputs": [],
      "source": [
        "#TXT to PDF\n",
        "import os\n",
        "from fpdf import FPDF\n",
        "\n",
        "def replace_problematic_characters(text):\n",
        "    # Define a list of problematic characters\n",
        "    problematic_chars = ['\\u2019', '\\u2013']  # Add other problematic characters if needed\n",
        "\n",
        "    # Replace problematic characters with a placeholder\n",
        "    for char in problematic_chars:\n",
        "        text = text.replace(char, '?')  # Replace with '?' or any suitable placeholder\n",
        "\n",
        "    return text\n",
        "\n",
        "def txt_to_pdf(input_path, output_dir):\n",
        "    # Read the content of the TXT file with UTF-8 encoding\n",
        "    with open(input_path, 'r', encoding='utf-8') as file:\n",
        "        text = file.read()\n",
        "\n",
        "    # Replace problematic characters\n",
        "    text = replace_problematic_characters(text)\n",
        "\n",
        "    # Create a PDF object\n",
        "    pdf = FPDF()\n",
        "    pdf.add_page()\n",
        "    pdf.set_font(\"Arial\", size=12)\n",
        "\n",
        "    # Add text to PDF\n",
        "    pdf.multi_cell(200, 10, txt=text)\n",
        "\n",
        "    # Save the PDF file\n",
        "    output_path = os.path.join(output_dir, os.path.splitext(os.path.basename(input_path))[0] + '.pdf')\n",
        "    pdf.output(output_path)"
      ]
    },
    {
      "cell_type": "code",
      "execution_count": 22,
      "metadata": {
        "id": "_G7FNgUorc0I"
      },
      "outputs": [],
      "source": [
        "#TXT to DOCX\n",
        "import os\n",
        "from docx import Document\n",
        "\n",
        "def txt_to_docx(input_path, output_dir):\n",
        "    # Read the content of the TXT file\n",
        "    with open(input_path, 'r') as file:\n",
        "        text = file.read()\n",
        "\n",
        "    # Create a new DOCX document\n",
        "    doc = Document()\n",
        "    doc.add_paragraph(text)\n",
        "\n",
        "    # Save the DOCX document\n",
        "    output_path = os.path.join(output_dir, os.path.splitext(os.path.basename(input_path))[0] + '.docx')\n",
        "    doc.save(output_path)"
      ]
    },
    {
      "cell_type": "code",
      "execution_count": 23,
      "metadata": {
        "id": "Pg5Sna_hrgP4"
      },
      "outputs": [],
      "source": [
        "#DOCX to PDF\n",
        "import os\n",
        "from docx import Document\n",
        "from fpdf import FPDF\n",
        "\n",
        "def replace_problematic_characters(text):\n",
        "    # Define a list of problematic characters\n",
        "    problematic_chars = ['\\u2019', '\\u2013']  # Add other problematic characters if needed\n",
        "\n",
        "    # Replace problematic characters with a placeholder\n",
        "    for char in problematic_chars:\n",
        "        text = text.replace(char, '?')  # Replace with '?' or any suitable placeholder\n",
        "\n",
        "    return text\n",
        "\n",
        "def docx_to_pdf(input_path, output_dir):\n",
        "    # Open the DOCX file\n",
        "    doc = Document(input_path)\n",
        "    text = \"\"\n",
        "    for para in doc.paragraphs:\n",
        "        text += para.text + \"\\n\"\n",
        "\n",
        "    # Replace problematic characters\n",
        "    text = replace_problematic_characters(text)\n",
        "\n",
        "    # Create a PDF object\n",
        "    pdf = FPDF()\n",
        "    pdf.add_page()\n",
        "    pdf.set_font(\"Arial\", size = 12)\n",
        "\n",
        "    # Add text to PDF\n",
        "    pdf.multi_cell(200, 10, txt = text)\n",
        "\n",
        "    # Save the PDF file\n",
        "    output_path = os.path.join(output_dir, os.path.splitext(os.path.basename(input_path))[0] + '.pdf')\n",
        "    pdf.output(output_path)"
      ]
    },
    {
      "cell_type": "code",
      "execution_count": 24,
      "metadata": {
        "id": "Z6Rz4kCyrjhg"
      },
      "outputs": [],
      "source": [
        "#DOCX to TXT\n",
        "import os\n",
        "from docx import Document\n",
        "\n",
        "def docx_to_txt(input_path, output_dir):\n",
        "    # Open the DOCX file\n",
        "    doc = Document(input_path)\n",
        "    text = \"\"\n",
        "    for para in doc.paragraphs:\n",
        "        text += para.text + \"\\n\"\n",
        "\n",
        "    # Write the extracted text to a TXT file\n",
        "    output_path = os.path.join(output_dir, os.path.splitext(os.path.basename(input_path))[0] + '.txt')\n",
        "    with open(output_path, 'w') as txt_file:\n",
        "        txt_file.write(text)"
      ]
    },
    {
      "cell_type": "code",
      "execution_count": 26,
      "metadata": {
        "colab": {
          "base_uri": "https://localhost:8080/"
        },
        "id": "HNFBf2V_Xrv7",
        "outputId": "25d640aa-2b60-4857-d720-cc6b6faa9390"
      },
      "outputs": [
        {
          "name": "stdout",
          "output_type": "stream",
          "text": [
            ".txt\n",
            ".pdf\n"
          ]
        }
      ],
      "source": [
        "import os\n",
        "\n",
        "path = input(\"Enter file: \")\n",
        "ext = os.path.splitext(path)[-1].lower()\n",
        "print(ext)\n",
        "\n",
        "output_dir = \"D:\\\\AILABS\\\\New folder (2)\\\\output\"\n",
        "output = input(\"Enter output type (txt/pdf/docx): \")\n",
        "output = \".\" + output.lower()\n",
        "print(output)"
      ]
    },
    {
      "cell_type": "code",
      "execution_count": 27,
      "metadata": {
        "id": "fO8eljoRY9-X"
      },
      "outputs": [
        {
          "name": "stderr",
          "output_type": "stream",
          "text": [
            "C:\\Users\\Wrishav\\AppData\\Local\\Temp\\ipykernel_16020\\2184261546.py:26: DeprecationWarning: Substituting font arial by core font helvetica - This is deprecated since v2.7.8, and will soon be removed\n",
            "  pdf.set_font(\"Arial\", size=14)\n",
            "C:\\Users\\Wrishav\\AppData\\Local\\Temp\\ipykernel_16020\\2184261546.py:29: DeprecationWarning: The parameter \"txt\" has been renamed to \"text\" in 2.7.6\n",
            "  pdf.multi_cell(200, 10, txt=text)\n"
          ]
        }
      ],
      "source": [
        "if ext == \".docx\":\n",
        "  if output == \".txt\":\n",
        "    docx_to_txt(path, output_dir)\n",
        "  elif output == \".pdf\":\n",
        "    docx_to_pdf(path, output_dir)\n",
        "  else:\n",
        "    print(\"SAME FILE TYPE CONVERSION DETECTED! NOT PROCEEDING!\")\n",
        "elif ext == \".txt\":\n",
        "  if output == \".pdf\":\n",
        "    txt_to_pdf(path, output_dir)\n",
        "  elif output == \".docx\":\n",
        "    txt_to_docx(path, output_dir)\n",
        "  else:\n",
        "    print(\"SAME FILE TYPE CONVERSION DETECTED! NOT PROCEEDING!\")\n",
        "elif ext == \".pdf\":\n",
        "  if output == \".txt\":\n",
        "    pdf_to_txt(path, output_dir)\n",
        "  elif output == \".docx\":\n",
        "    pdf_to_docx(path, output_dir)\n",
        "  else:\n",
        "    print(\"SAME FILE TYPE CONVERSION DETECTED! NOT PROCEEDING!\")\n",
        "else:\n",
        "  print(\"INVALID FILE TYPE DETECTED! NOT PROCEEDING!\")"
      ]
    },
    {
      "cell_type": "code",
      "execution_count": null,
      "metadata": {},
      "outputs": [],
      "source": []
    }
  ],
  "metadata": {
    "colab": {
      "provenance": []
    },
    "kernelspec": {
      "display_name": "Python 3",
      "name": "python3"
    },
    "language_info": {
      "codemirror_mode": {
        "name": "ipython",
        "version": 3
      },
      "file_extension": ".py",
      "mimetype": "text/x-python",
      "name": "python",
      "nbconvert_exporter": "python",
      "pygments_lexer": "ipython3",
      "version": "3.11.2"
    }
  },
  "nbformat": 4,
  "nbformat_minor": 0
}
