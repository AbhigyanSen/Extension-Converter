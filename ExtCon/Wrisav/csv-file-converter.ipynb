{
 "cells": [
  {
   "cell_type": "code",
   "execution_count": 1,
   "metadata": {},
   "outputs": [
    {
     "name": "stderr",
     "output_type": "stream",
     "text": [
      "C:\\Users\\Wrishav\\AppData\\Local\\Temp\\ipykernel_11388\\4080736814.py:1: DeprecationWarning: \n",
      "Pyarrow will become a required dependency of pandas in the next major release of pandas (pandas 3.0),\n",
      "(to allow more performant data types, such as the Arrow string type, and better interoperability with other libraries)\n",
      "but was not found to be installed on your system.\n",
      "If this would cause problems for you,\n",
      "please provide us feedback at https://github.com/pandas-dev/pandas/issues/54466\n",
      "        \n",
      "  import pandas as pd\n"
     ]
    }
   ],
   "source": [
    "import pandas as pd"
   ]
  },
  {
   "cell_type": "code",
   "execution_count": 2,
   "metadata": {},
   "outputs": [],
   "source": [
    "#CSV to XLSX\n",
    "def csv_to_xlsx(path):\n",
    "    df = pd.read_csv(path)\n",
    "    df.to_excel(\"xlsx_file.xlsx\", index=False)"
   ]
  },
  {
   "cell_type": "code",
   "execution_count": 3,
   "metadata": {},
   "outputs": [],
   "source": [
    "#CSV to TXT\n",
    "def csv_to_text(path):\n",
    "    df = pd.read_csv(path)\n",
    "    df.to_csv(\"txt_file.txt\", index=False, sep='\\t')"
   ]
  },
  {
   "cell_type": "code",
   "execution_count": 4,
   "metadata": {},
   "outputs": [],
   "source": [
    "#CSV to PDF\n",
    "def csv_to_pdf(path):\n",
    "    from csv2pdf import convert\n",
    "    convert(path, \"pdf_file.pdf\", font=r\"D:\\Download\\Big Sur\\SFProFonts\\SF-Pro.ttf\", size=4 ,headerfont=r\"D:\\Download\\Big Sur\\SFProFonts\\SF-Pro.ttf\", headersize=4)"
   ]
  },
  {
   "cell_type": "code",
   "execution_count": 5,
   "metadata": {},
   "outputs": [],
   "source": [
    "#XLSX to CSV\n",
    "def xlsx_to_csv(path):\n",
    "    # Read and store content of an excel file \n",
    "    read_file = pd.read_excel(path) \n",
    "    # Write the dataframe object into csv file \n",
    "    read_file.to_csv(\"csv_file.csv\", index = None, header=True)"
   ]
  },
  {
   "cell_type": "code",
   "execution_count": 6,
   "metadata": {},
   "outputs": [],
   "source": [
    "#XLSX to TXT\n",
    "def xlsx_to_text(path):\n",
    "    xlsx_to_csv(path)\n",
    "    csv_to_text(\"csv_file.csv\")"
   ]
  },
  {
   "cell_type": "code",
   "execution_count": 7,
   "metadata": {},
   "outputs": [],
   "source": [
    "#XLSX to PDF\n",
    "def xlsx_to_pdf(path):\n",
    "    xlsx_to_csv(path)\n",
    "    csv_to_pdf(\"csv_file.csv\")"
   ]
  },
  {
   "cell_type": "code",
   "execution_count": 8,
   "metadata": {},
   "outputs": [],
   "source": [
    "#TXT to CSV\n",
    "def text_to_csv(path):\n",
    "    import csv\n",
    "    # Open the input text file for reading\n",
    "    with open(path, 'r') as txtfile:\n",
    "        # Read the first line to get the column headers\n",
    "        headers = txtfile.readline().strip().split('\\t')\n",
    "        \n",
    "        # Create a CSV file for writing\n",
    "        with open(\"csv_file.csv\", 'w', newline='') as csvfile:\n",
    "            # Create a CSV writer object\n",
    "            csvwriter = csv.writer(csvfile)\n",
    "            \n",
    "            # Write the headers into the CSV file\n",
    "            csvwriter.writerow(headers)\n",
    "            \n",
    "            # Read the subsequent lines and write data into the CSV file\n",
    "            for line in txtfile:\n",
    "                # Split the line into fields (assuming fields are separated by tabs)\n",
    "                data = line.strip().split('\\t')\n",
    "                \n",
    "                # Write the data into the CSV file\n",
    "                csvwriter.writerow(data)\n"
   ]
  },
  {
   "cell_type": "code",
   "execution_count": 9,
   "metadata": {},
   "outputs": [],
   "source": [
    "#TXT to XLSX\n",
    "def text_to_xlsx(path):\n",
    "    text_to_csv(path)\n",
    "    csv_to_xlsx(\"csv_file.csv\")"
   ]
  },
  {
   "cell_type": "code",
   "execution_count": 10,
   "metadata": {},
   "outputs": [
    {
     "name": "stderr",
     "output_type": "stream",
     "text": [
      "c:\\Users\\Wrishav\\AppData\\Local\\Programs\\Python\\Python311\\Lib\\site-packages\\fpdf\\__init__.py:39: UserWarning: You have both PyFPDF & fpdf2 installed. Both packages cannot be installed at the same time as they share the same module namespace. To only keep fpdf2, run: pip uninstall --yes pypdf && pip install --upgrade fpdf2\n",
      "  warnings.warn(\n"
     ]
    }
   ],
   "source": [
    "#TXT to PDF\n",
    "import os\n",
    "from fpdf import FPDF\n",
    "\n",
    "def replace_problematic_characters(text):\n",
    "    # Define a list of problematic characters\n",
    "    problematic_chars = ['\\u2019', '\\u2013']  # Add other problematic characters if needed\n",
    "\n",
    "    # Replace problematic characters with a placeholder\n",
    "    for char in problematic_chars:\n",
    "        text = text.replace(char, '?')  # Replace with '?' or any suitable placeholder\n",
    "\n",
    "    return text\n",
    "\n",
    "def text_to_pdf(path):\n",
    "    # Read the content of the TXT file with UTF-8 encoding\n",
    "    with open(path, 'r', encoding='utf-8') as file:\n",
    "        text = file.read()\n",
    "\n",
    "    # Replace problematic characters\n",
    "    text = replace_problematic_characters(text)\n",
    "\n",
    "    # Create a PDF object\n",
    "    pdf = FPDF()\n",
    "    pdf.add_page()\n",
    "    pdf.set_font(\"Arial\", size=12)\n",
    "\n",
    "    # Add text to PDF\n",
    "    pdf.multi_cell(200, 10, txt=text)\n",
    "\n",
    "    # Save the PDF file\n",
    "    #output_path = os.path.join(output_dir, os.path.splitext(os.path.basename(input_path))[0] + '.pdf')\n",
    "    pdf.output(\"pdf_file.pdf\")"
   ]
  },
  {
   "cell_type": "code",
   "execution_count": null,
   "metadata": {},
   "outputs": [],
   "source": [
    "# import os\n",
    "\n",
    "# # D:\\AILABS\\Automobile data.csv\n",
    "# # D:\\AILABS\\Automobile data.pdf\n",
    "# # D:\\AILABS\\Automobile data.txt\n",
    "# # D:\\AILABS\\Automobile data.xlsx\n",
    "\n",
    "# path = input(\"Enter file path: \")\n",
    "# ext = os.path.splitext(path)[-1].lower()\n",
    "# print(ext)\n",
    "\n",
    "# # output_dir = \"D:\\\\AILABS\\\\New folder (2)\\\\output\"\n",
    "# output = input(\"Enter output type (xlsx/txt/pdf/csv): \")\n",
    "# output = \".\" + output.lower()\n",
    "# print(output)"
   ]
  },
  {
   "cell_type": "code",
   "execution_count": null,
   "metadata": {},
   "outputs": [],
   "source": [
    "path = input(\"Enter file path: \")\n",
    "csv_to_pdf(path)\n",
    "csv_to_text(path)\n",
    "csv_to_xlsx(path)"
   ]
  },
  {
   "cell_type": "code",
   "execution_count": null,
   "metadata": {},
   "outputs": [],
   "source": [
    "#ALL FUNCTIONS WORK PERFECTLY\n",
    "path = input(\"Enter file path: \")\n",
    "xlsx_to_csv(path)\n",
    "xlsx_to_pdf(path)\n",
    "xlsx_to_text(path)"
   ]
  },
  {
   "cell_type": "code",
   "execution_count": 14,
   "metadata": {},
   "outputs": [
    {
     "ename": "UnicodeDecodeError",
     "evalue": "'utf-8' codec can't decode byte 0xff in position 0: invalid start byte",
     "output_type": "error",
     "traceback": [
      "\u001b[1;31m---------------------------------------------------------------------------\u001b[0m",
      "\u001b[1;31mUnicodeDecodeError\u001b[0m                        Traceback (most recent call last)",
      "Cell \u001b[1;32mIn[14], line 3\u001b[0m\n\u001b[0;32m      1\u001b[0m path \u001b[38;5;241m=\u001b[39m \u001b[38;5;28minput\u001b[39m(\u001b[38;5;124m\"\u001b[39m\u001b[38;5;124mEnter file path: \u001b[39m\u001b[38;5;124m\"\u001b[39m)\n\u001b[0;32m      2\u001b[0m text_to_csv(path)\n\u001b[1;32m----> 3\u001b[0m \u001b[43mtext_to_pdf\u001b[49m\u001b[43m(\u001b[49m\u001b[43mpath\u001b[49m\u001b[43m)\u001b[49m\n\u001b[0;32m      4\u001b[0m text_to_xlsx(path)\n",
      "Cell \u001b[1;32mIn[10], line 18\u001b[0m, in \u001b[0;36mtext_to_pdf\u001b[1;34m(path)\u001b[0m\n\u001b[0;32m     15\u001b[0m \u001b[38;5;28;01mdef\u001b[39;00m \u001b[38;5;21mtext_to_pdf\u001b[39m(path):\n\u001b[0;32m     16\u001b[0m     \u001b[38;5;66;03m# Read the content of the TXT file with UTF-8 encoding\u001b[39;00m\n\u001b[0;32m     17\u001b[0m     \u001b[38;5;28;01mwith\u001b[39;00m \u001b[38;5;28mopen\u001b[39m(path, \u001b[38;5;124m'\u001b[39m\u001b[38;5;124mr\u001b[39m\u001b[38;5;124m'\u001b[39m, encoding\u001b[38;5;241m=\u001b[39m\u001b[38;5;124m'\u001b[39m\u001b[38;5;124mutf-8\u001b[39m\u001b[38;5;124m'\u001b[39m) \u001b[38;5;28;01mas\u001b[39;00m file:\n\u001b[1;32m---> 18\u001b[0m         text \u001b[38;5;241m=\u001b[39m \u001b[43mfile\u001b[49m\u001b[38;5;241;43m.\u001b[39;49m\u001b[43mread\u001b[49m\u001b[43m(\u001b[49m\u001b[43m)\u001b[49m\n\u001b[0;32m     20\u001b[0m     \u001b[38;5;66;03m# Replace problematic characters\u001b[39;00m\n\u001b[0;32m     21\u001b[0m     text \u001b[38;5;241m=\u001b[39m replace_problematic_characters(text)\n",
      "File \u001b[1;32m<frozen codecs>:322\u001b[0m, in \u001b[0;36mdecode\u001b[1;34m(self, input, final)\u001b[0m\n",
      "\u001b[1;31mUnicodeDecodeError\u001b[0m: 'utf-8' codec can't decode byte 0xff in position 0: invalid start byte"
     ]
    }
   ],
   "source": [
    "path = input(\"Enter file path: \")\n",
    "text_to_csv(path)\n",
    "text_to_pdf(path)\n",
    "text_to_xlsx(path)"
   ]
  },
  {
   "cell_type": "code",
   "execution_count": null,
   "metadata": {},
   "outputs": [],
   "source": [
    "# if ext == \".csv\":\n",
    "#   if output == \".txt\":\n",
    "#     csv_to_text(path)\n",
    "#   elif output == \".pdf\":\n",
    "#     csv_to_pdf(path)\n",
    "#   elif output == \".xlsx\":\n",
    "#     csv_to_xlsx(path)\n",
    "#   else:\n",
    "#     print(\"SAME FILE TYPE CONVERSION DETECTED! NOT PROCEEDING!\")\n",
    "# elif ext == \".txt\":\n",
    "#   if output == \".pdf\":\n",
    "#     text_to_pdf(path)\n",
    "#   elif output == \".csv\":\n",
    "#     text_to_csv(path)\n",
    "#   elif output == \".xlsx\":\n",
    "#     text_to_xlsx(path)\n",
    "#   else:\n",
    "#     print(\"SAME FILE TYPE CONVERSION DETECTED! NOT PROCEEDING!\")\n",
    "# # elif ext == \".pdf\":\n",
    "# #   if output == \".txt\":\n",
    "# #     pdf_to_text(path)\n",
    "# #   elif output == \".xlsx\":\n",
    "# #     pdf_to_xlsx(path)\n",
    "# #   elif output == \".csv\":\n",
    "# #     pdf_to_csv(path)\n",
    "# #   else:\n",
    "# #     print(\"SAME FILE TYPE CONVERSION DETECTED! NOT PROCEEDING!\")\n",
    "# elif ext == \".xlsx\":\n",
    "#   if output == \".pdf\":\n",
    "#     xlsx_to_pdf(path)\n",
    "#   elif output == \".csv\":\n",
    "#     xlsx_to_csv(path)\n",
    "#   elif output == \".txt\":\n",
    "#     xlsx_to_text(path)\n",
    "#   else:\n",
    "#     print(\"SAME FILE TYPE CONVERSION DETECTED! NOT PROCEEDING!\")\n",
    "# else:\n",
    "#   print(\"INVALID FILE TYPE DETECTED! NOT PROCEEDING!\")"
   ]
  }
 ],
 "metadata": {
  "kernelspec": {
   "display_name": "Python 3",
   "language": "python",
   "name": "python3"
  },
  "language_info": {
   "codemirror_mode": {
    "name": "ipython",
    "version": 3
   },
   "file_extension": ".py",
   "mimetype": "text/x-python",
   "name": "python",
   "nbconvert_exporter": "python",
   "pygments_lexer": "ipython3",
   "version": "3.11.2"
  }
 },
 "nbformat": 4,
 "nbformat_minor": 2
}
